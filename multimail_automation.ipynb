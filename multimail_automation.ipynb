{
 "cells": [
  {
   "cell_type": "code",
   "execution_count": 18,
   "id": "056a23b2",
   "metadata": {},
   "outputs": [],
   "source": [
    "import smtplib"
   ]
  },
  {
   "cell_type": "code",
   "execution_count": 19,
   "id": "0e882e17",
   "metadata": {},
   "outputs": [],
   "source": [
    "my_email = \"hisherhim2022@gmail.com\"\n",
    "my_pass = \"susvhnpfufttghsi\""
   ]
  },
  {
   "cell_type": "code",
   "execution_count": 23,
   "id": "09fe5144",
   "metadata": {},
   "outputs": [
    {
     "name": "stdout",
     "output_type": "stream",
     "text": [
      "All mails sent!!!!\n"
     ]
    }
   ],
   "source": [
    "email_list = ['aaqibalisahito44@gmail.com', 'ayalakho@gmail.com', 'lakho75@yahoo.com', 'aaqibalitct01@gmail.com', 'lakhohajoo@gmail.com']\n",
    "for i in range(len(email_list)):\n",
    "    with smtplib.SMTP('smtp.gmail.com') as connection:\n",
    "        connection.starttls()\n",
    "        connection.login(user=my_email, password=my_pass)\n",
    "        connection.sendmail(from_addr=my_email,\n",
    "                            to_addrs=email_list[i],\n",
    "                            msg='Subject:You will do it! \\n\\nYou will be very successful oneday i am hundred percent sure')\n",
    "print(\"All mails sent!!!!\")"
   ]
  },
  {
   "cell_type": "code",
   "execution_count": null,
   "id": "829db26b",
   "metadata": {},
   "outputs": [],
   "source": []
  }
 ],
 "metadata": {
  "kernelspec": {
   "display_name": "Python 3 (ipykernel)",
   "language": "python",
   "name": "python3"
  },
  "language_info": {
   "codemirror_mode": {
    "name": "ipython",
    "version": 3
   },
   "file_extension": ".py",
   "mimetype": "text/x-python",
   "name": "python",
   "nbconvert_exporter": "python",
   "pygments_lexer": "ipython3",
   "version": "3.10.6"
  }
 },
 "nbformat": 4,
 "nbformat_minor": 5
}
